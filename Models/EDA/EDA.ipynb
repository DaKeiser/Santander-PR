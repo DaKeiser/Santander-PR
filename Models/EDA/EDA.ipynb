{
  "nbformat": 4,
  "nbformat_minor": 0,
  "metadata": {
    "colab": {
      "name": "Untitled0.ipynb",
      "provenance": [],
      "collapsed_sections": [],
      "toc_visible": true
    },
    "kernelspec": {
      "display_name": "Python 3",
      "name": "python3"
    }
  },
  "cells": [
    {
      "cell_type": "code",
      "metadata": {
        "id": "PK-LV_Mnak1q"
      },
      "source": [
        "import numpy as np # linear algebra\n",
        "import pandas as pd # data processing, CSV file I/O (e.g. pd.read_csv)\n",
        "from matplotlib import pyplot as plt\n",
        "import seaborn as sns\n",
        "import csv\n",
        "from sklearn.model_selection import train_test_split\n",
        "from sklearn.preprocessing import Normalizer\n",
        "from sklearn import preprocessing\n",
        "from sklearn.model_selection import TimeSeriesSplit\n",
        "from sklearn import svm\n",
        "from sklearn.preprocessing import StandardScaler\n",
        "from sklearn.pipeline import make_pipeline\n",
        "from sklearn.naive_bayes import GaussianNB\n",
        "from sklearn.ensemble import GradientBoostingClassifier\n",
        "from sklearn.ensemble import AdaBoostClassifier\n",
        "from sklearn.metrics import roc_auc_score\n",
        "from sklearn.metrics import accuracy_score\n",
        "import gc\n",
        "import sys\n",
        "%matplotlib inline\n"
      ],
      "execution_count": 84,
      "outputs": []
    },
    {
      "cell_type": "markdown",
      "metadata": {
        "id": "fNQqO1dCdPXD"
      },
      "source": [
        "# Importing Data"
      ]
    },
    {
      "cell_type": "code",
      "metadata": {
        "colab": {
          "base_uri": "https://localhost:8080/"
        },
        "id": "KgzL6JROehW3",
        "outputId": "0e885f0c-521f-4d66-90b6-e8cd30730e06"
      },
      "source": [
        "from google.colab import drive\n",
        "drive.mount('/content/drive')\n",
        "#pls specify your filepath here for the import of training data\n",
        "filepath = '/content/drive/My Drive/Colab Notebooks/train.csv'"
      ],
      "execution_count": 85,
      "outputs": [
        {
          "output_type": "stream",
          "text": [
            "Drive already mounted at /content/drive; to attempt to forcibly remount, call drive.mount(\"/content/drive\", force_remount=True).\n"
          ],
          "name": "stdout"
        }
      ]
    },
    {
      "cell_type": "code",
      "metadata": {
        "colab": {
          "base_uri": "https://localhost:8080/",
          "height": 336
        },
        "id": "nK_CRF4IK0yU",
        "outputId": "d0baa3ae-12fc-4954-ac27-1c515467f846"
      },
      "source": [
        "#predefine some of the data type, for memory efficiency \n",
        "type_dict={'ncodpers':np.int32, 'ind_ahor_fin_ult1':np.uint8, 'ind_aval_fin_ult1':np.uint8, \n",
        "       'ind_cco_fin_ult1':np.uint8,'ind_cder_fin_ult1':np.uint8,\n",
        "            'ind_cno_fin_ult1':np.uint8,'ind_ctju_fin_ult1':np.uint8,'ind_ctma_fin_ult1':np.uint8,\n",
        "            'ind_ctop_fin_ult1':np.uint8,'ind_ctpp_fin_ult1':np.uint8,'ind_deco_fin_ult1':np.uint8,\n",
        "            'ind_deme_fin_ult1':np.uint8,'ind_dela_fin_ult1':np.uint8,'ind_ecue_fin_ult1':np.uint8,\n",
        "            'ind_fond_fin_ult1':np.uint8,'ind_hip_fin_ult1':np.uint8,'ind_plan_fin_ult1':np.uint8,\n",
        "            'ind_pres_fin_ult1':np.uint8,'ind_reca_fin_ult1':np.uint8,'ind_tjcr_fin_ult1':np.uint8,\n",
        "            'ind_valo_fin_ult1':np.uint8,'ind_viv_fin_ult1':np.uint8,\n",
        "            'ind_recibo_ult1':np.uint8 }\n",
        "\n",
        "limit_rows = 700000\n",
        "df = pd.read_csv(filepath, dtype=type_dict  , nrows = limit_rows ,parse_dates=['fecha_dato', 'fecha_alta'])\n",
        "\n",
        "df.head()"
      ],
      "execution_count": 86,
      "outputs": [
        {
          "output_type": "stream",
          "text": [
            "/usr/local/lib/python3.6/dist-packages/IPython/core/interactiveshell.py:2718: DtypeWarning: Columns (15) have mixed types.Specify dtype option on import or set low_memory=False.\n",
            "  interactivity=interactivity, compiler=compiler, result=result)\n"
          ],
          "name": "stderr"
        },
        {
          "output_type": "execute_result",
          "data": {
            "text/html": [
              "<div>\n",
              "<style scoped>\n",
              "    .dataframe tbody tr th:only-of-type {\n",
              "        vertical-align: middle;\n",
              "    }\n",
              "\n",
              "    .dataframe tbody tr th {\n",
              "        vertical-align: top;\n",
              "    }\n",
              "\n",
              "    .dataframe thead th {\n",
              "        text-align: right;\n",
              "    }\n",
              "</style>\n",
              "<table border=\"1\" class=\"dataframe\">\n",
              "  <thead>\n",
              "    <tr style=\"text-align: right;\">\n",
              "      <th></th>\n",
              "      <th>fecha_dato</th>\n",
              "      <th>ncodpers</th>\n",
              "      <th>ind_empleado</th>\n",
              "      <th>pais_residencia</th>\n",
              "      <th>sexo</th>\n",
              "      <th>age</th>\n",
              "      <th>fecha_alta</th>\n",
              "      <th>ind_nuevo</th>\n",
              "      <th>antiguedad</th>\n",
              "      <th>indrel</th>\n",
              "      <th>ult_fec_cli_1t</th>\n",
              "      <th>indrel_1mes</th>\n",
              "      <th>tiprel_1mes</th>\n",
              "      <th>indresi</th>\n",
              "      <th>indext</th>\n",
              "      <th>conyuemp</th>\n",
              "      <th>canal_entrada</th>\n",
              "      <th>indfall</th>\n",
              "      <th>tipodom</th>\n",
              "      <th>cod_prov</th>\n",
              "      <th>nomprov</th>\n",
              "      <th>ind_actividad_cliente</th>\n",
              "      <th>renta</th>\n",
              "      <th>segmento</th>\n",
              "      <th>ind_ahor_fin_ult1</th>\n",
              "      <th>ind_aval_fin_ult1</th>\n",
              "      <th>ind_cco_fin_ult1</th>\n",
              "      <th>ind_cder_fin_ult1</th>\n",
              "      <th>ind_cno_fin_ult1</th>\n",
              "      <th>ind_ctju_fin_ult1</th>\n",
              "      <th>ind_ctma_fin_ult1</th>\n",
              "      <th>ind_ctop_fin_ult1</th>\n",
              "      <th>ind_ctpp_fin_ult1</th>\n",
              "      <th>ind_deco_fin_ult1</th>\n",
              "      <th>ind_deme_fin_ult1</th>\n",
              "      <th>ind_dela_fin_ult1</th>\n",
              "      <th>ind_ecue_fin_ult1</th>\n",
              "      <th>ind_fond_fin_ult1</th>\n",
              "      <th>ind_hip_fin_ult1</th>\n",
              "      <th>ind_plan_fin_ult1</th>\n",
              "      <th>ind_pres_fin_ult1</th>\n",
              "      <th>ind_reca_fin_ult1</th>\n",
              "      <th>ind_tjcr_fin_ult1</th>\n",
              "      <th>ind_valo_fin_ult1</th>\n",
              "      <th>ind_viv_fin_ult1</th>\n",
              "      <th>ind_nomina_ult1</th>\n",
              "      <th>ind_nom_pens_ult1</th>\n",
              "      <th>ind_recibo_ult1</th>\n",
              "    </tr>\n",
              "  </thead>\n",
              "  <tbody>\n",
              "    <tr>\n",
              "      <th>0</th>\n",
              "      <td>2015-01-28</td>\n",
              "      <td>1375586</td>\n",
              "      <td>N</td>\n",
              "      <td>ES</td>\n",
              "      <td>H</td>\n",
              "      <td>35</td>\n",
              "      <td>2015-01-12</td>\n",
              "      <td>0.0</td>\n",
              "      <td>6</td>\n",
              "      <td>1.0</td>\n",
              "      <td>NaN</td>\n",
              "      <td>1.0</td>\n",
              "      <td>A</td>\n",
              "      <td>S</td>\n",
              "      <td>N</td>\n",
              "      <td>NaN</td>\n",
              "      <td>KHL</td>\n",
              "      <td>N</td>\n",
              "      <td>1.0</td>\n",
              "      <td>29.0</td>\n",
              "      <td>MALAGA</td>\n",
              "      <td>1.0</td>\n",
              "      <td>87218.10</td>\n",
              "      <td>02 - PARTICULARES</td>\n",
              "      <td>0</td>\n",
              "      <td>0</td>\n",
              "      <td>1</td>\n",
              "      <td>0</td>\n",
              "      <td>0</td>\n",
              "      <td>0</td>\n",
              "      <td>0</td>\n",
              "      <td>0</td>\n",
              "      <td>0</td>\n",
              "      <td>0</td>\n",
              "      <td>0</td>\n",
              "      <td>0</td>\n",
              "      <td>0</td>\n",
              "      <td>0</td>\n",
              "      <td>0</td>\n",
              "      <td>0</td>\n",
              "      <td>0</td>\n",
              "      <td>0</td>\n",
              "      <td>0</td>\n",
              "      <td>0</td>\n",
              "      <td>0</td>\n",
              "      <td>0.0</td>\n",
              "      <td>0.0</td>\n",
              "      <td>0</td>\n",
              "    </tr>\n",
              "    <tr>\n",
              "      <th>1</th>\n",
              "      <td>2015-01-28</td>\n",
              "      <td>1050611</td>\n",
              "      <td>N</td>\n",
              "      <td>ES</td>\n",
              "      <td>V</td>\n",
              "      <td>23</td>\n",
              "      <td>2012-08-10</td>\n",
              "      <td>0.0</td>\n",
              "      <td>35</td>\n",
              "      <td>1.0</td>\n",
              "      <td>NaN</td>\n",
              "      <td>1.0</td>\n",
              "      <td>I</td>\n",
              "      <td>S</td>\n",
              "      <td>S</td>\n",
              "      <td>NaN</td>\n",
              "      <td>KHE</td>\n",
              "      <td>N</td>\n",
              "      <td>1.0</td>\n",
              "      <td>13.0</td>\n",
              "      <td>CIUDAD REAL</td>\n",
              "      <td>0.0</td>\n",
              "      <td>35548.74</td>\n",
              "      <td>03 - UNIVERSITARIO</td>\n",
              "      <td>0</td>\n",
              "      <td>0</td>\n",
              "      <td>1</td>\n",
              "      <td>0</td>\n",
              "      <td>0</td>\n",
              "      <td>0</td>\n",
              "      <td>0</td>\n",
              "      <td>0</td>\n",
              "      <td>0</td>\n",
              "      <td>0</td>\n",
              "      <td>0</td>\n",
              "      <td>0</td>\n",
              "      <td>0</td>\n",
              "      <td>0</td>\n",
              "      <td>0</td>\n",
              "      <td>0</td>\n",
              "      <td>0</td>\n",
              "      <td>0</td>\n",
              "      <td>0</td>\n",
              "      <td>0</td>\n",
              "      <td>0</td>\n",
              "      <td>0.0</td>\n",
              "      <td>0.0</td>\n",
              "      <td>0</td>\n",
              "    </tr>\n",
              "    <tr>\n",
              "      <th>2</th>\n",
              "      <td>2015-01-28</td>\n",
              "      <td>1050612</td>\n",
              "      <td>N</td>\n",
              "      <td>ES</td>\n",
              "      <td>V</td>\n",
              "      <td>23</td>\n",
              "      <td>2012-08-10</td>\n",
              "      <td>0.0</td>\n",
              "      <td>35</td>\n",
              "      <td>1.0</td>\n",
              "      <td>NaN</td>\n",
              "      <td>1.0</td>\n",
              "      <td>I</td>\n",
              "      <td>S</td>\n",
              "      <td>N</td>\n",
              "      <td>NaN</td>\n",
              "      <td>KHE</td>\n",
              "      <td>N</td>\n",
              "      <td>1.0</td>\n",
              "      <td>13.0</td>\n",
              "      <td>CIUDAD REAL</td>\n",
              "      <td>0.0</td>\n",
              "      <td>122179.11</td>\n",
              "      <td>03 - UNIVERSITARIO</td>\n",
              "      <td>0</td>\n",
              "      <td>0</td>\n",
              "      <td>1</td>\n",
              "      <td>0</td>\n",
              "      <td>0</td>\n",
              "      <td>0</td>\n",
              "      <td>0</td>\n",
              "      <td>0</td>\n",
              "      <td>0</td>\n",
              "      <td>0</td>\n",
              "      <td>0</td>\n",
              "      <td>0</td>\n",
              "      <td>0</td>\n",
              "      <td>0</td>\n",
              "      <td>0</td>\n",
              "      <td>0</td>\n",
              "      <td>0</td>\n",
              "      <td>0</td>\n",
              "      <td>0</td>\n",
              "      <td>0</td>\n",
              "      <td>0</td>\n",
              "      <td>0.0</td>\n",
              "      <td>0.0</td>\n",
              "      <td>0</td>\n",
              "    </tr>\n",
              "    <tr>\n",
              "      <th>3</th>\n",
              "      <td>2015-01-28</td>\n",
              "      <td>1050613</td>\n",
              "      <td>N</td>\n",
              "      <td>ES</td>\n",
              "      <td>H</td>\n",
              "      <td>22</td>\n",
              "      <td>2012-08-10</td>\n",
              "      <td>0.0</td>\n",
              "      <td>35</td>\n",
              "      <td>1.0</td>\n",
              "      <td>NaN</td>\n",
              "      <td>1.0</td>\n",
              "      <td>I</td>\n",
              "      <td>S</td>\n",
              "      <td>N</td>\n",
              "      <td>NaN</td>\n",
              "      <td>KHD</td>\n",
              "      <td>N</td>\n",
              "      <td>1.0</td>\n",
              "      <td>50.0</td>\n",
              "      <td>ZARAGOZA</td>\n",
              "      <td>0.0</td>\n",
              "      <td>119775.54</td>\n",
              "      <td>03 - UNIVERSITARIO</td>\n",
              "      <td>0</td>\n",
              "      <td>0</td>\n",
              "      <td>0</td>\n",
              "      <td>0</td>\n",
              "      <td>0</td>\n",
              "      <td>0</td>\n",
              "      <td>0</td>\n",
              "      <td>0</td>\n",
              "      <td>0</td>\n",
              "      <td>1</td>\n",
              "      <td>0</td>\n",
              "      <td>0</td>\n",
              "      <td>0</td>\n",
              "      <td>0</td>\n",
              "      <td>0</td>\n",
              "      <td>0</td>\n",
              "      <td>0</td>\n",
              "      <td>0</td>\n",
              "      <td>0</td>\n",
              "      <td>0</td>\n",
              "      <td>0</td>\n",
              "      <td>0.0</td>\n",
              "      <td>0.0</td>\n",
              "      <td>0</td>\n",
              "    </tr>\n",
              "    <tr>\n",
              "      <th>4</th>\n",
              "      <td>2015-01-28</td>\n",
              "      <td>1050614</td>\n",
              "      <td>N</td>\n",
              "      <td>ES</td>\n",
              "      <td>V</td>\n",
              "      <td>23</td>\n",
              "      <td>2012-08-10</td>\n",
              "      <td>0.0</td>\n",
              "      <td>35</td>\n",
              "      <td>1.0</td>\n",
              "      <td>NaN</td>\n",
              "      <td>1.0</td>\n",
              "      <td>A</td>\n",
              "      <td>S</td>\n",
              "      <td>N</td>\n",
              "      <td>NaN</td>\n",
              "      <td>KHE</td>\n",
              "      <td>N</td>\n",
              "      <td>1.0</td>\n",
              "      <td>50.0</td>\n",
              "      <td>ZARAGOZA</td>\n",
              "      <td>1.0</td>\n",
              "      <td>NaN</td>\n",
              "      <td>03 - UNIVERSITARIO</td>\n",
              "      <td>0</td>\n",
              "      <td>0</td>\n",
              "      <td>1</td>\n",
              "      <td>0</td>\n",
              "      <td>0</td>\n",
              "      <td>0</td>\n",
              "      <td>0</td>\n",
              "      <td>0</td>\n",
              "      <td>0</td>\n",
              "      <td>0</td>\n",
              "      <td>0</td>\n",
              "      <td>0</td>\n",
              "      <td>0</td>\n",
              "      <td>0</td>\n",
              "      <td>0</td>\n",
              "      <td>0</td>\n",
              "      <td>0</td>\n",
              "      <td>0</td>\n",
              "      <td>0</td>\n",
              "      <td>0</td>\n",
              "      <td>0</td>\n",
              "      <td>0.0</td>\n",
              "      <td>0.0</td>\n",
              "      <td>0</td>\n",
              "    </tr>\n",
              "  </tbody>\n",
              "</table>\n",
              "</div>"
            ],
            "text/plain": [
              "  fecha_dato  ncodpers  ... ind_nom_pens_ult1 ind_recibo_ult1\n",
              "0 2015-01-28   1375586  ...               0.0               0\n",
              "1 2015-01-28   1050611  ...               0.0               0\n",
              "2 2015-01-28   1050612  ...               0.0               0\n",
              "3 2015-01-28   1050613  ...               0.0               0\n",
              "4 2015-01-28   1050614  ...               0.0               0\n",
              "\n",
              "[5 rows x 48 columns]"
            ]
          },
          "metadata": {
            "tags": []
          },
          "execution_count": 86
        }
      ]
    },
    {
      "cell_type": "code",
      "metadata": {
        "id": "7bl6n8j14JtA"
      },
      "source": [
        "def rename_columns(data):\r\n",
        "    data.rename(columns = {\"fecha_dato\":\"time_series\",\"ncodpers\":\"customer_code\",\"ind_empleado\":\"employee_index\",\\\r\n",
        "                       \"pais_residencia\":\"country_residence\",\"sexo\":\"gender\",\"fecha_alta\":\"Date_First_Customer\",\\\r\n",
        "                       \"ind_nuevo\":\"New_Customer_ind\",\"antiguedad\":\"Seniority\",\"indrel\":\"primary_cust\",\\\r\n",
        "                       \"ult_fec_cli_1t\":\"last_date_primary\",\"indrel_1mes\":\"customer_type\",\"tiprel_1mes\":\"cust_rel_type\",\\\r\n",
        "                       \"indresi\":\"residence_index\",\"indext\":\"foriegn_index\",\"conyuemp\":\"spouse_index\",\"canal_entrada\":\"channel_by_cust_joined\",\\\r\n",
        "                       \"indfall\":\"deceased_index\",\"tipodom\":\"primary_address\",\"cod_prov\":\"province_code\",\"nomprov\":\"province_name\",\\\r\n",
        "                       \"ind_actividad_cliente\":\"activity_index\",\"renta\":\"gross_income\",\"segmento\":\"segmentation\",\\\r\n",
        "                       \"ind_ahor_fin_ult1\":\"savings_account\",\"ind_aval_fin_ult1\":\"guarantees\",\"ind_cco_fin_ult1\":\"current_account\",\\\r\n",
        "                       \"ind_cder_fin_ult1\":\"derivative_account\",\"ind_cno_fin_ult1\":\"payroll_account\",\"ind_ctju_fin_ult1\":\"jnr_account\",\\\r\n",
        "                       \"ind_ctma_fin_ult1\":\"mas_particular_account\",\"ind_ctop_fin_ult1\":\"particular_account\",\"ind_ctpp_fin_ult1\":\"particular_Plus_Account\",\\\r\n",
        "                       \"ind_deco_fin_ult1\":\"short_term_deposits\",\"ind_deme_fin_ult1\":\"medium_term_deposits\",\\\r\n",
        "                       \"ind_dela_fin_ult1\":\"long_term_deposits\",\"ind_ecue_fin_ult1\":\"e_account\",\"ind_fond_fin_ult1\":\"funds\",\\\r\n",
        "                       \"ind_hip_fin_ult1\":\"mortgage\",\"ind_plan_fin_ult1\":\"pensions\",\"ind_pres_fin_ult1\":\"loans\",\\\r\n",
        "                       \"ind_reca_fin_ult1\":\"taxes\",\"ind_tjcr_fin_ult1\":\"credit_card\",\"ind_valo_fin_ult1\":\"securities\",\\\r\n",
        "                       \"ind_viv_fin_ult1\":\"home_account\",\"ind_nomina_ult1\":\"payroll\",\"ind_nom_pens_ult1\":\"pensions1\",\r\n",
        "                       \"ind_recibo_ult1\":\"direct_debit\"},inplace=True)"
      ],
      "execution_count": 87,
      "outputs": []
    },
    {
      "cell_type": "code",
      "metadata": {
        "colab": {
          "base_uri": "https://localhost:8080/",
          "height": 302
        },
        "id": "XIjLfYdx4Klt",
        "outputId": "41ebfc62-6aad-4ef3-ae9f-ec2992dfa5b9"
      },
      "source": [
        "rename_columns(df)\n",
        "\n",
        "\n",
        "output_cols = [\"savings_account\",\"guarantees\",\"current_account\",\"derivative_account\",\\\n",
        "           \"payroll_account\",\"jnr_account\",\"mas_particular_account\",\"particular_account\",\\\n",
        "           \"particular_Plus_Account\",\"short_term_deposits\",\"medium_term_deposits\",\"long_term_deposits\",\\\n",
        "           \"e_account\",\"funds\",\"mortgage\",\"pensions\",\\\n",
        "            \"loans\",\"taxes\",\"credit_card\",\"securities\",\\\n",
        "            \"home_account\",\"payroll\",\"pensions1\",\"direct_debit\"]\n",
        "\n",
        "feature_cols = []\n",
        "for col in df.columns:\n",
        "  if(col not in output_cols):\n",
        "    feature_cols.append(col)\n",
        "\n",
        "\n",
        "train_cols = feature_cols + output_cols\n",
        "\n",
        "train = df.filter(train_cols)\n",
        "\n",
        "train.head()"
      ],
      "execution_count": 88,
      "outputs": [
        {
          "output_type": "execute_result",
          "data": {
            "text/html": [
              "<div>\n",
              "<style scoped>\n",
              "    .dataframe tbody tr th:only-of-type {\n",
              "        vertical-align: middle;\n",
              "    }\n",
              "\n",
              "    .dataframe tbody tr th {\n",
              "        vertical-align: top;\n",
              "    }\n",
              "\n",
              "    .dataframe thead th {\n",
              "        text-align: right;\n",
              "    }\n",
              "</style>\n",
              "<table border=\"1\" class=\"dataframe\">\n",
              "  <thead>\n",
              "    <tr style=\"text-align: right;\">\n",
              "      <th></th>\n",
              "      <th>time_series</th>\n",
              "      <th>customer_code</th>\n",
              "      <th>employee_index</th>\n",
              "      <th>country_residence</th>\n",
              "      <th>gender</th>\n",
              "      <th>age</th>\n",
              "      <th>Date_First_Customer</th>\n",
              "      <th>New_Customer_ind</th>\n",
              "      <th>Seniority</th>\n",
              "      <th>primary_cust</th>\n",
              "      <th>last_date_primary</th>\n",
              "      <th>customer_type</th>\n",
              "      <th>cust_rel_type</th>\n",
              "      <th>residence_index</th>\n",
              "      <th>foriegn_index</th>\n",
              "      <th>spouse_index</th>\n",
              "      <th>channel_by_cust_joined</th>\n",
              "      <th>deceased_index</th>\n",
              "      <th>primary_address</th>\n",
              "      <th>province_code</th>\n",
              "      <th>province_name</th>\n",
              "      <th>activity_index</th>\n",
              "      <th>gross_income</th>\n",
              "      <th>segmentation</th>\n",
              "      <th>savings_account</th>\n",
              "      <th>guarantees</th>\n",
              "      <th>current_account</th>\n",
              "      <th>derivative_account</th>\n",
              "      <th>payroll_account</th>\n",
              "      <th>jnr_account</th>\n",
              "      <th>mas_particular_account</th>\n",
              "      <th>particular_account</th>\n",
              "      <th>particular_Plus_Account</th>\n",
              "      <th>short_term_deposits</th>\n",
              "      <th>medium_term_deposits</th>\n",
              "      <th>long_term_deposits</th>\n",
              "      <th>e_account</th>\n",
              "      <th>funds</th>\n",
              "      <th>mortgage</th>\n",
              "      <th>pensions</th>\n",
              "      <th>loans</th>\n",
              "      <th>taxes</th>\n",
              "      <th>credit_card</th>\n",
              "      <th>securities</th>\n",
              "      <th>home_account</th>\n",
              "      <th>payroll</th>\n",
              "      <th>pensions1</th>\n",
              "      <th>direct_debit</th>\n",
              "    </tr>\n",
              "  </thead>\n",
              "  <tbody>\n",
              "    <tr>\n",
              "      <th>0</th>\n",
              "      <td>2015-01-28</td>\n",
              "      <td>1375586</td>\n",
              "      <td>N</td>\n",
              "      <td>ES</td>\n",
              "      <td>H</td>\n",
              "      <td>35</td>\n",
              "      <td>2015-01-12</td>\n",
              "      <td>0.0</td>\n",
              "      <td>6</td>\n",
              "      <td>1.0</td>\n",
              "      <td>NaN</td>\n",
              "      <td>1.0</td>\n",
              "      <td>A</td>\n",
              "      <td>S</td>\n",
              "      <td>N</td>\n",
              "      <td>NaN</td>\n",
              "      <td>KHL</td>\n",
              "      <td>N</td>\n",
              "      <td>1.0</td>\n",
              "      <td>29.0</td>\n",
              "      <td>MALAGA</td>\n",
              "      <td>1.0</td>\n",
              "      <td>87218.10</td>\n",
              "      <td>02 - PARTICULARES</td>\n",
              "      <td>0</td>\n",
              "      <td>0</td>\n",
              "      <td>1</td>\n",
              "      <td>0</td>\n",
              "      <td>0</td>\n",
              "      <td>0</td>\n",
              "      <td>0</td>\n",
              "      <td>0</td>\n",
              "      <td>0</td>\n",
              "      <td>0</td>\n",
              "      <td>0</td>\n",
              "      <td>0</td>\n",
              "      <td>0</td>\n",
              "      <td>0</td>\n",
              "      <td>0</td>\n",
              "      <td>0</td>\n",
              "      <td>0</td>\n",
              "      <td>0</td>\n",
              "      <td>0</td>\n",
              "      <td>0</td>\n",
              "      <td>0</td>\n",
              "      <td>0.0</td>\n",
              "      <td>0.0</td>\n",
              "      <td>0</td>\n",
              "    </tr>\n",
              "    <tr>\n",
              "      <th>1</th>\n",
              "      <td>2015-01-28</td>\n",
              "      <td>1050611</td>\n",
              "      <td>N</td>\n",
              "      <td>ES</td>\n",
              "      <td>V</td>\n",
              "      <td>23</td>\n",
              "      <td>2012-08-10</td>\n",
              "      <td>0.0</td>\n",
              "      <td>35</td>\n",
              "      <td>1.0</td>\n",
              "      <td>NaN</td>\n",
              "      <td>1.0</td>\n",
              "      <td>I</td>\n",
              "      <td>S</td>\n",
              "      <td>S</td>\n",
              "      <td>NaN</td>\n",
              "      <td>KHE</td>\n",
              "      <td>N</td>\n",
              "      <td>1.0</td>\n",
              "      <td>13.0</td>\n",
              "      <td>CIUDAD REAL</td>\n",
              "      <td>0.0</td>\n",
              "      <td>35548.74</td>\n",
              "      <td>03 - UNIVERSITARIO</td>\n",
              "      <td>0</td>\n",
              "      <td>0</td>\n",
              "      <td>1</td>\n",
              "      <td>0</td>\n",
              "      <td>0</td>\n",
              "      <td>0</td>\n",
              "      <td>0</td>\n",
              "      <td>0</td>\n",
              "      <td>0</td>\n",
              "      <td>0</td>\n",
              "      <td>0</td>\n",
              "      <td>0</td>\n",
              "      <td>0</td>\n",
              "      <td>0</td>\n",
              "      <td>0</td>\n",
              "      <td>0</td>\n",
              "      <td>0</td>\n",
              "      <td>0</td>\n",
              "      <td>0</td>\n",
              "      <td>0</td>\n",
              "      <td>0</td>\n",
              "      <td>0.0</td>\n",
              "      <td>0.0</td>\n",
              "      <td>0</td>\n",
              "    </tr>\n",
              "    <tr>\n",
              "      <th>2</th>\n",
              "      <td>2015-01-28</td>\n",
              "      <td>1050612</td>\n",
              "      <td>N</td>\n",
              "      <td>ES</td>\n",
              "      <td>V</td>\n",
              "      <td>23</td>\n",
              "      <td>2012-08-10</td>\n",
              "      <td>0.0</td>\n",
              "      <td>35</td>\n",
              "      <td>1.0</td>\n",
              "      <td>NaN</td>\n",
              "      <td>1.0</td>\n",
              "      <td>I</td>\n",
              "      <td>S</td>\n",
              "      <td>N</td>\n",
              "      <td>NaN</td>\n",
              "      <td>KHE</td>\n",
              "      <td>N</td>\n",
              "      <td>1.0</td>\n",
              "      <td>13.0</td>\n",
              "      <td>CIUDAD REAL</td>\n",
              "      <td>0.0</td>\n",
              "      <td>122179.11</td>\n",
              "      <td>03 - UNIVERSITARIO</td>\n",
              "      <td>0</td>\n",
              "      <td>0</td>\n",
              "      <td>1</td>\n",
              "      <td>0</td>\n",
              "      <td>0</td>\n",
              "      <td>0</td>\n",
              "      <td>0</td>\n",
              "      <td>0</td>\n",
              "      <td>0</td>\n",
              "      <td>0</td>\n",
              "      <td>0</td>\n",
              "      <td>0</td>\n",
              "      <td>0</td>\n",
              "      <td>0</td>\n",
              "      <td>0</td>\n",
              "      <td>0</td>\n",
              "      <td>0</td>\n",
              "      <td>0</td>\n",
              "      <td>0</td>\n",
              "      <td>0</td>\n",
              "      <td>0</td>\n",
              "      <td>0.0</td>\n",
              "      <td>0.0</td>\n",
              "      <td>0</td>\n",
              "    </tr>\n",
              "    <tr>\n",
              "      <th>3</th>\n",
              "      <td>2015-01-28</td>\n",
              "      <td>1050613</td>\n",
              "      <td>N</td>\n",
              "      <td>ES</td>\n",
              "      <td>H</td>\n",
              "      <td>22</td>\n",
              "      <td>2012-08-10</td>\n",
              "      <td>0.0</td>\n",
              "      <td>35</td>\n",
              "      <td>1.0</td>\n",
              "      <td>NaN</td>\n",
              "      <td>1.0</td>\n",
              "      <td>I</td>\n",
              "      <td>S</td>\n",
              "      <td>N</td>\n",
              "      <td>NaN</td>\n",
              "      <td>KHD</td>\n",
              "      <td>N</td>\n",
              "      <td>1.0</td>\n",
              "      <td>50.0</td>\n",
              "      <td>ZARAGOZA</td>\n",
              "      <td>0.0</td>\n",
              "      <td>119775.54</td>\n",
              "      <td>03 - UNIVERSITARIO</td>\n",
              "      <td>0</td>\n",
              "      <td>0</td>\n",
              "      <td>0</td>\n",
              "      <td>0</td>\n",
              "      <td>0</td>\n",
              "      <td>0</td>\n",
              "      <td>0</td>\n",
              "      <td>0</td>\n",
              "      <td>0</td>\n",
              "      <td>1</td>\n",
              "      <td>0</td>\n",
              "      <td>0</td>\n",
              "      <td>0</td>\n",
              "      <td>0</td>\n",
              "      <td>0</td>\n",
              "      <td>0</td>\n",
              "      <td>0</td>\n",
              "      <td>0</td>\n",
              "      <td>0</td>\n",
              "      <td>0</td>\n",
              "      <td>0</td>\n",
              "      <td>0.0</td>\n",
              "      <td>0.0</td>\n",
              "      <td>0</td>\n",
              "    </tr>\n",
              "    <tr>\n",
              "      <th>4</th>\n",
              "      <td>2015-01-28</td>\n",
              "      <td>1050614</td>\n",
              "      <td>N</td>\n",
              "      <td>ES</td>\n",
              "      <td>V</td>\n",
              "      <td>23</td>\n",
              "      <td>2012-08-10</td>\n",
              "      <td>0.0</td>\n",
              "      <td>35</td>\n",
              "      <td>1.0</td>\n",
              "      <td>NaN</td>\n",
              "      <td>1.0</td>\n",
              "      <td>A</td>\n",
              "      <td>S</td>\n",
              "      <td>N</td>\n",
              "      <td>NaN</td>\n",
              "      <td>KHE</td>\n",
              "      <td>N</td>\n",
              "      <td>1.0</td>\n",
              "      <td>50.0</td>\n",
              "      <td>ZARAGOZA</td>\n",
              "      <td>1.0</td>\n",
              "      <td>NaN</td>\n",
              "      <td>03 - UNIVERSITARIO</td>\n",
              "      <td>0</td>\n",
              "      <td>0</td>\n",
              "      <td>1</td>\n",
              "      <td>0</td>\n",
              "      <td>0</td>\n",
              "      <td>0</td>\n",
              "      <td>0</td>\n",
              "      <td>0</td>\n",
              "      <td>0</td>\n",
              "      <td>0</td>\n",
              "      <td>0</td>\n",
              "      <td>0</td>\n",
              "      <td>0</td>\n",
              "      <td>0</td>\n",
              "      <td>0</td>\n",
              "      <td>0</td>\n",
              "      <td>0</td>\n",
              "      <td>0</td>\n",
              "      <td>0</td>\n",
              "      <td>0</td>\n",
              "      <td>0</td>\n",
              "      <td>0.0</td>\n",
              "      <td>0.0</td>\n",
              "      <td>0</td>\n",
              "    </tr>\n",
              "  </tbody>\n",
              "</table>\n",
              "</div>"
            ],
            "text/plain": [
              "  time_series  customer_code employee_index  ... payroll pensions1 direct_debit\n",
              "0  2015-01-28        1375586              N  ...     0.0       0.0            0\n",
              "1  2015-01-28        1050611              N  ...     0.0       0.0            0\n",
              "2  2015-01-28        1050612              N  ...     0.0       0.0            0\n",
              "3  2015-01-28        1050613              N  ...     0.0       0.0            0\n",
              "4  2015-01-28        1050614              N  ...     0.0       0.0            0\n",
              "\n",
              "[5 rows x 48 columns]"
            ]
          },
          "metadata": {
            "tags": []
          },
          "execution_count": 88
        }
      ]
    },
    {
      "cell_type": "markdown",
      "metadata": {
        "id": "XZ63paND1Vv-"
      },
      "source": [
        "# Null Values and Correlation"
      ]
    },
    {
      "cell_type": "code",
      "metadata": {
        "id": "Qm0n22RCQ75d"
      },
      "source": [
        "#Function to get a sorted correlation plot, based on the target column specified ( decreasing)\n",
        "def CorrPlotLargest(df, target):\n",
        "    k = 10\n",
        "    numerical_feature_columns = list(df._get_numeric_data().columns)\n",
        "    cols = df[numerical_feature_columns].corr().nlargest(k, target)[target].index\n",
        "    cm = df[cols].corr()\n",
        "    plt.figure(figsize=(10,6))\n",
        "    return sns.heatmap(cm, annot=True, cmap = 'viridis')\n",
        "\n",
        "#Function to get a sorted correlation plot, based on the target column specified (increasing)\n",
        "def CorrPlotSmallest(df, target):\n",
        "    k = 10\n",
        "    numerical_feature_columns = list(df._get_numeric_data().columns)\n",
        "    cols = df[numerical_feature_columns].corr().nsmallest(k-1, target)[target].index\n",
        "    cols = cols.insert(0,target)\n",
        "    cm = df[cols].corr()\n",
        "    plt.figure(figsize=(10,6))\n",
        "    return sns.heatmap(cm, annot=True, cmap = 'viridis')"
      ],
      "execution_count": 89,
      "outputs": []
    },
    {
      "cell_type": "code",
      "metadata": {
        "colab": {
          "base_uri": "https://localhost:8080/"
        },
        "id": "qQa7cUKJLNEI",
        "outputId": "05d640ab-57e1-4e16-a026-2357913b66ed"
      },
      "source": [
        "null_values = train.isnull().sum() * 100 / len(train)\n",
        "null_values.sort_values(ascending = False)"
      ],
      "execution_count": 90,
      "outputs": [
        {
          "output_type": "execute_result",
          "data": {
            "text/plain": [
              "spouse_index               99.987286\n",
              "last_date_primary          99.883429\n",
              "gross_income               17.712429\n",
              "province_name               1.763286\n",
              "province_code               1.763286\n",
              "segmentation                1.124000\n",
              "channel_by_cust_joined      1.120571\n",
              "gender                      1.113143\n",
              "cust_rel_type               1.112857\n",
              "activity_index              1.112857\n",
              "primary_address             1.112857\n",
              "deceased_index              1.112857\n",
              "employee_index              1.112857\n",
              "foriegn_index               1.112857\n",
              "residence_index             1.112857\n",
              "customer_type               1.112857\n",
              "country_residence           1.112857\n",
              "primary_cust                1.112857\n",
              "New_Customer_ind            1.112857\n",
              "Date_First_Customer         1.112857\n",
              "payroll                     0.523143\n",
              "pensions1                   0.523143\n",
              "age                         0.000000\n",
              "Seniority                   0.000000\n",
              "customer_code               0.000000\n",
              "direct_debit                0.000000\n",
              "savings_account             0.000000\n",
              "guarantees                  0.000000\n",
              "home_account                0.000000\n",
              "securities                  0.000000\n",
              "credit_card                 0.000000\n",
              "taxes                       0.000000\n",
              "loans                       0.000000\n",
              "pensions                    0.000000\n",
              "mortgage                    0.000000\n",
              "funds                       0.000000\n",
              "e_account                   0.000000\n",
              "long_term_deposits          0.000000\n",
              "medium_term_deposits        0.000000\n",
              "short_term_deposits         0.000000\n",
              "particular_Plus_Account     0.000000\n",
              "particular_account          0.000000\n",
              "mas_particular_account      0.000000\n",
              "jnr_account                 0.000000\n",
              "payroll_account             0.000000\n",
              "derivative_account          0.000000\n",
              "current_account             0.000000\n",
              "time_series                 0.000000\n",
              "dtype: float64"
            ]
          },
          "metadata": {
            "tags": []
          },
          "execution_count": 90
        }
      ]
    },
    {
      "cell_type": "code",
      "metadata": {
        "colab": {
          "base_uri": "https://localhost:8080/"
        },
        "id": "LvAkkbAS6bPA",
        "outputId": "1b92ed58-0b09-45e3-9659-1374a64e2840"
      },
      "source": [
        "train[['cust_rel_type','customer_type']].value_counts()"
      ],
      "execution_count": 91,
      "outputs": [
        {
          "output_type": "execute_result",
          "data": {
            "text/plain": [
              "cust_rel_type  customer_type\n",
              "A              1.0              367622\n",
              "I              1.0              324555\n",
              "P              3.0                  32\n",
              "I              2.0                   1\n",
              "dtype: int64"
            ]
          },
          "metadata": {
            "tags": []
          },
          "execution_count": 91
        }
      ]
    },
    {
      "cell_type": "markdown",
      "metadata": {
        "id": "hKaUvIwcQD1L"
      },
      "source": [
        "Now in the above plot we can see that 2 of the columns have 99% empty entries, so we just drop them right away and we can predict the renta based on the columns its most correlated with, and the ones we think imply some causality as well."
      ]
    },
    {
      "cell_type": "code",
      "metadata": {
        "colab": {
          "base_uri": "https://localhost:8080/"
        },
        "id": "1lxBBBMpOsct",
        "outputId": "ffbad242-57c7-4217-d907-1880ec454a90"
      },
      "source": [
        "train.primary_address.unique()\r\n",
        "#Only one unique value for the column primary_address"
      ],
      "execution_count": 92,
      "outputs": [
        {
          "output_type": "execute_result",
          "data": {
            "text/plain": [
              "array([ 1., nan])"
            ]
          },
          "metadata": {
            "tags": []
          },
          "execution_count": 92
        }
      ]
    },
    {
      "cell_type": "code",
      "metadata": {
        "colab": {
          "base_uri": "https://localhost:8080/",
          "height": 492
        },
        "id": "vf92rjoGQZQh",
        "outputId": "2db56966-1ecd-4219-c5f3-8d40581e40f4"
      },
      "source": [
        "CorrPlotLargest(df[feature_cols],'gross_income')"
      ],
      "execution_count": 93,
      "outputs": [
        {
          "output_type": "execute_result",
          "data": {
            "text/plain": [
              "<matplotlib.axes._subplots.AxesSubplot at 0x7f55160b6898>"
            ]
          },
          "metadata": {
            "tags": []
          },
          "execution_count": 93
        },
        {
          "output_type": "display_data",
          "data": {
            "image/png": "[encoded data removed]",
            "text/plain": [
              "<Figure size 720x432 with 2 Axes>"
            ]
          },
          "metadata": {
            "tags": [],
            "needs_background": "light"
          }
        }
      ]
    },
    {
      "cell_type": "code",
      "metadata": {
        "colab": {
          "base_uri": "https://localhost:8080/"
        },
        "id": "hUUj1GKHLowU",
        "outputId": "6aabd62a-9821-44da-9df9-cf100f4ff6cc"
      },
      "source": [
        "#This function is a representation of how many times are the user entries present.\n",
        "train['customer_code'].value_counts()"
      ],
      "execution_count": 94,
      "outputs": [
        {
          "output_type": "execute_result",
          "data": {
            "text/plain": [
              "454194     2\n",
              "544341     2\n",
              "525638     2\n",
              "535875     2\n",
              "547328     2\n",
              "          ..\n",
              "1057614    1\n",
              "1059663    1\n",
              "1102672    1\n",
              "1104721    1\n",
              "1048576    1\n",
              "Name: customer_code, Length: 625587, dtype: int64"
            ]
          },
          "metadata": {
            "tags": []
          },
          "execution_count": 94
        }
      ]
    },
    {
      "cell_type": "code",
      "metadata": {
        "id": "1kKnZhXVSFOl"
      },
      "source": [
        "del df"
      ],
      "execution_count": 95,
      "outputs": []
    },
    {
      "cell_type": "markdown",
      "metadata": {
        "id": "ljySHkke1RwG"
      },
      "source": [
        "## Some initial Product Count analysis"
      ]
    },
    {
      "cell_type": "code",
      "metadata": {
        "id": "y5ttONMOS2XU"
      },
      "source": [
        "output_cols = pd.read_csv(filepath, dtype='float16', \n",
        "                    usecols=['ind_ahor_fin_ult1', 'ind_aval_fin_ult1', \n",
        "                             'ind_cco_fin_ult1', 'ind_cder_fin_ult1',\n",
        "                             'ind_cno_fin_ult1', 'ind_ctju_fin_ult1',\n",
        "                             'ind_ctma_fin_ult1', 'ind_ctop_fin_ult1',\n",
        "                             'ind_ctpp_fin_ult1', 'ind_deco_fin_ult1',\n",
        "                             'ind_deme_fin_ult1', 'ind_dela_fin_ult1',\n",
        "                             'ind_ecue_fin_ult1', 'ind_fond_fin_ult1',\n",
        "                             'ind_hip_fin_ult1', 'ind_plan_fin_ult1',\n",
        "                             'ind_pres_fin_ult1', 'ind_reca_fin_ult1',\n",
        "                             'ind_tjcr_fin_ult1', 'ind_valo_fin_ult1',\n",
        "                             'ind_viv_fin_ult1', 'ind_nomina_ult1',\n",
        "                             'ind_nom_pens_ult1', 'ind_recibo_ult1'])"
      ],
      "execution_count": 97,
      "outputs": []
    },
    {
      "cell_type": "markdown",
      "metadata": {
        "id": "o894w8DRRvN6"
      },
      "source": [
        "From the above data we can see that most of the customers have the entries for the entirity of 16 months , we ahve a small peak on 10 months as well could be something useful"
      ]
    },
    {
      "cell_type": "code",
      "metadata": {
        "colab": {
          "base_uri": "https://localhost:8080/",
          "height": 302
        },
        "id": "55-mdBWVTK7p",
        "outputId": "f6dc6eb7-f1a9-4dde-c91f-611b6bc41d6a"
      },
      "source": [
        "train.head()"
      ],
      "execution_count": 98,
      "outputs": [
        {
          "output_type": "execute_result",
          "data": {
            "text/html": [
              "<div>\n",
              "<style scoped>\n",
              "    .dataframe tbody tr th:only-of-type {\n",
              "        vertical-align: middle;\n",
              "    }\n",
              "\n",
              "    .dataframe tbody tr th {\n",
              "        vertical-align: top;\n",
              "    }\n",
              "\n",
              "    .dataframe thead th {\n",
              "        text-align: right;\n",
              "    }\n",
              "</style>\n",
              "<table border=\"1\" class=\"dataframe\">\n",
              "  <thead>\n",
              "    <tr style=\"text-align: right;\">\n",
              "      <th></th>\n",
              "      <th>time_series</th>\n",
              "      <th>customer_code</th>\n",
              "      <th>employee_index</th>\n",
              "      <th>country_residence</th>\n",
              "      <th>gender</th>\n",
              "      <th>age</th>\n",
              "      <th>Date_First_Customer</th>\n",
              "      <th>New_Customer_ind</th>\n",
              "      <th>Seniority</th>\n",
              "      <th>primary_cust</th>\n",
              "      <th>last_date_primary</th>\n",
              "      <th>customer_type</th>\n",
              "      <th>cust_rel_type</th>\n",
              "      <th>residence_index</th>\n",
              "      <th>foriegn_index</th>\n",
              "      <th>spouse_index</th>\n",
              "      <th>channel_by_cust_joined</th>\n",
              "      <th>deceased_index</th>\n",
              "      <th>primary_address</th>\n",
              "      <th>province_code</th>\n",
              "      <th>province_name</th>\n",
              "      <th>activity_index</th>\n",
              "      <th>gross_income</th>\n",
              "      <th>segmentation</th>\n",
              "      <th>savings_account</th>\n",
              "      <th>guarantees</th>\n",
              "      <th>current_account</th>\n",
              "      <th>derivative_account</th>\n",
              "      <th>payroll_account</th>\n",
              "      <th>jnr_account</th>\n",
              "      <th>mas_particular_account</th>\n",
              "      <th>particular_account</th>\n",
              "      <th>particular_Plus_Account</th>\n",
              "      <th>short_term_deposits</th>\n",
              "      <th>medium_term_deposits</th>\n",
              "      <th>long_term_deposits</th>\n",
              "      <th>e_account</th>\n",
              "      <th>funds</th>\n",
              "      <th>mortgage</th>\n",
              "      <th>pensions</th>\n",
              "      <th>loans</th>\n",
              "      <th>taxes</th>\n",
              "      <th>credit_card</th>\n",
              "      <th>securities</th>\n",
              "      <th>home_account</th>\n",
              "      <th>payroll</th>\n",
              "      <th>pensions1</th>\n",
              "      <th>direct_debit</th>\n",
              "    </tr>\n",
              "  </thead>\n",
              "  <tbody>\n",
              "    <tr>\n",
              "      <th>0</th>\n",
              "      <td>2015-01-28</td>\n",
              "      <td>1375586</td>\n",
              "      <td>N</td>\n",
              "      <td>ES</td>\n",
              "      <td>H</td>\n",
              "      <td>35</td>\n",
              "      <td>2015-01-12</td>\n",
              "      <td>0.0</td>\n",
              "      <td>6</td>\n",
              "      <td>1.0</td>\n",
              "      <td>NaN</td>\n",
              "      <td>1.0</td>\n",
              "      <td>A</td>\n",
              "      <td>S</td>\n",
              "      <td>N</td>\n",
              "      <td>NaN</td>\n",
              "      <td>KHL</td>\n",
              "      <td>N</td>\n",
              "      <td>1.0</td>\n",
              "      <td>29.0</td>\n",
              "      <td>MALAGA</td>\n",
              "      <td>1.0</td>\n",
              "      <td>87218.10</td>\n",
              "      <td>02 - PARTICULARES</td>\n",
              "      <td>0</td>\n",
              "      <td>0</td>\n",
              "      <td>1</td>\n",
              "      <td>0</td>\n",
              "      <td>0</td>\n",
              "      <td>0</td>\n",
              "      <td>0</td>\n",
              "      <td>0</td>\n",
              "      <td>0</td>\n",
              "      <td>0</td>\n",
              "      <td>0</td>\n",
              "      <td>0</td>\n",
              "      <td>0</td>\n",
              "      <td>0</td>\n",
              "      <td>0</td>\n",
              "      <td>0</td>\n",
              "      <td>0</td>\n",
              "      <td>0</td>\n",
              "      <td>0</td>\n",
              "      <td>0</td>\n",
              "      <td>0</td>\n",
              "      <td>0.0</td>\n",
              "      <td>0.0</td>\n",
              "      <td>0</td>\n",
              "    </tr>\n",
              "    <tr>\n",
              "      <th>1</th>\n",
              "      <td>2015-01-28</td>\n",
              "      <td>1050611</td>\n",
              "      <td>N</td>\n",
              "      <td>ES</td>\n",
              "      <td>V</td>\n",
              "      <td>23</td>\n",
              "      <td>2012-08-10</td>\n",
              "      <td>0.0</td>\n",
              "      <td>35</td>\n",
              "      <td>1.0</td>\n",
              "      <td>NaN</td>\n",
              "      <td>1.0</td>\n",
              "      <td>I</td>\n",
              "      <td>S</td>\n",
              "      <td>S</td>\n",
              "      <td>NaN</td>\n",
              "      <td>KHE</td>\n",
              "      <td>N</td>\n",
              "      <td>1.0</td>\n",
              "      <td>13.0</td>\n",
              "      <td>CIUDAD REAL</td>\n",
              "      <td>0.0</td>\n",
              "      <td>35548.74</td>\n",
              "      <td>03 - UNIVERSITARIO</td>\n",
              "      <td>0</td>\n",
              "      <td>0</td>\n",
              "      <td>1</td>\n",
              "      <td>0</td>\n",
              "      <td>0</td>\n",
              "      <td>0</td>\n",
              "      <td>0</td>\n",
              "      <td>0</td>\n",
              "      <td>0</td>\n",
              "      <td>0</td>\n",
              "      <td>0</td>\n",
              "      <td>0</td>\n",
              "      <td>0</td>\n",
              "      <td>0</td>\n",
              "      <td>0</td>\n",
              "      <td>0</td>\n",
              "      <td>0</td>\n",
              "      <td>0</td>\n",
              "      <td>0</td>\n",
              "      <td>0</td>\n",
              "      <td>0</td>\n",
              "      <td>0.0</td>\n",
              "      <td>0.0</td>\n",
              "      <td>0</td>\n",
              "    </tr>\n",
              "    <tr>\n",
              "      <th>2</th>\n",
              "      <td>2015-01-28</td>\n",
              "      <td>1050612</td>\n",
              "      <td>N</td>\n",
              "      <td>ES</td>\n",
              "      <td>V</td>\n",
              "      <td>23</td>\n",
              "      <td>2012-08-10</td>\n",
              "      <td>0.0</td>\n",
              "      <td>35</td>\n",
              "      <td>1.0</td>\n",
              "      <td>NaN</td>\n",
              "      <td>1.0</td>\n",
              "      <td>I</td>\n",
              "      <td>S</td>\n",
              "      <td>N</td>\n",
              "      <td>NaN</td>\n",
              "      <td>KHE</td>\n",
              "      <td>N</td>\n",
              "      <td>1.0</td>\n",
              "      <td>13.0</td>\n",
              "      <td>CIUDAD REAL</td>\n",
              "      <td>0.0</td>\n",
              "      <td>122179.11</td>\n",
              "      <td>03 - UNIVERSITARIO</td>\n",
              "      <td>0</td>\n",
              "      <td>0</td>\n",
              "      <td>1</td>\n",
              "      <td>0</td>\n",
              "      <td>0</td>\n",
              "      <td>0</td>\n",
              "      <td>0</td>\n",
              "      <td>0</td>\n",
              "      <td>0</td>\n",
              "      <td>0</td>\n",
              "      <td>0</td>\n",
              "      <td>0</td>\n",
              "      <td>0</td>\n",
              "      <td>0</td>\n",
              "      <td>0</td>\n",
              "      <td>0</td>\n",
              "      <td>0</td>\n",
              "      <td>0</td>\n",
              "      <td>0</td>\n",
              "      <td>0</td>\n",
              "      <td>0</td>\n",
              "      <td>0.0</td>\n",
              "      <td>0.0</td>\n",
              "      <td>0</td>\n",
              "    </tr>\n",
              "    <tr>\n",
              "      <th>3</th>\n",
              "      <td>2015-01-28</td>\n",
              "      <td>1050613</td>\n",
              "      <td>N</td>\n",
              "      <td>ES</td>\n",
              "      <td>H</td>\n",
              "      <td>22</td>\n",
              "      <td>2012-08-10</td>\n",
              "      <td>0.0</td>\n",
              "      <td>35</td>\n",
              "      <td>1.0</td>\n",
              "      <td>NaN</td>\n",
              "      <td>1.0</td>\n",
              "      <td>I</td>\n",
              "      <td>S</td>\n",
              "      <td>N</td>\n",
              "      <td>NaN</td>\n",
              "      <td>KHD</td>\n",
              "      <td>N</td>\n",
              "      <td>1.0</td>\n",
              "      <td>50.0</td>\n",
              "      <td>ZARAGOZA</td>\n",
              "      <td>0.0</td>\n",
              "      <td>119775.54</td>\n",
              "      <td>03 - UNIVERSITARIO</td>\n",
              "      <td>0</td>\n",
              "      <td>0</td>\n",
              "      <td>0</td>\n",
              "      <td>0</td>\n",
              "      <td>0</td>\n",
              "      <td>0</td>\n",
              "      <td>0</td>\n",
              "      <td>0</td>\n",
              "      <td>0</td>\n",
              "      <td>1</td>\n",
              "      <td>0</td>\n",
              "      <td>0</td>\n",
              "      <td>0</td>\n",
              "      <td>0</td>\n",
              "      <td>0</td>\n",
              "      <td>0</td>\n",
              "      <td>0</td>\n",
              "      <td>0</td>\n",
              "      <td>0</td>\n",
              "      <td>0</td>\n",
              "      <td>0</td>\n",
              "      <td>0.0</td>\n",
              "      <td>0.0</td>\n",
              "      <td>0</td>\n",
              "    </tr>\n",
              "    <tr>\n",
              "      <th>4</th>\n",
              "      <td>2015-01-28</td>\n",
              "      <td>1050614</td>\n",
              "      <td>N</td>\n",
              "      <td>ES</td>\n",
              "      <td>V</td>\n",
              "      <td>23</td>\n",
              "      <td>2012-08-10</td>\n",
              "      <td>0.0</td>\n",
              "      <td>35</td>\n",
              "      <td>1.0</td>\n",
              "      <td>NaN</td>\n",
              "      <td>1.0</td>\n",
              "      <td>A</td>\n",
              "      <td>S</td>\n",
              "      <td>N</td>\n",
              "      <td>NaN</td>\n",
              "      <td>KHE</td>\n",
              "      <td>N</td>\n",
              "      <td>1.0</td>\n",
              "      <td>50.0</td>\n",
              "      <td>ZARAGOZA</td>\n",
              "      <td>1.0</td>\n",
              "      <td>NaN</td>\n",
              "      <td>03 - UNIVERSITARIO</td>\n",
              "      <td>0</td>\n",
              "      <td>0</td>\n",
              "      <td>1</td>\n",
              "      <td>0</td>\n",
              "      <td>0</td>\n",
              "      <td>0</td>\n",
              "      <td>0</td>\n",
              "      <td>0</td>\n",
              "      <td>0</td>\n",
              "      <td>0</td>\n",
              "      <td>0</td>\n",
              "      <td>0</td>\n",
              "      <td>0</td>\n",
              "      <td>0</td>\n",
              "      <td>0</td>\n",
              "      <td>0</td>\n",
              "      <td>0</td>\n",
              "      <td>0</td>\n",
              "      <td>0</td>\n",
              "      <td>0</td>\n",
              "      <td>0</td>\n",
              "      <td>0.0</td>\n",
              "      <td>0.0</td>\n",
              "      <td>0</td>\n",
              "    </tr>\n",
              "  </tbody>\n",
              "</table>\n",
              "</div>"
            ],
            "text/plain": [
              "  time_series  customer_code employee_index  ... payroll pensions1 direct_debit\n",
              "0  2015-01-28        1375586              N  ...     0.0       0.0            0\n",
              "1  2015-01-28        1050611              N  ...     0.0       0.0            0\n",
              "2  2015-01-28        1050612              N  ...     0.0       0.0            0\n",
              "3  2015-01-28        1050613              N  ...     0.0       0.0            0\n",
              "4  2015-01-28        1050614              N  ...     0.0       0.0            0\n",
              "\n",
              "[5 rows x 48 columns]"
            ]
          },
          "metadata": {
            "tags": []
          },
          "execution_count": 98
        }
      ]
    },
    {
      "cell_type": "code",
      "metadata": {
        "id": "YFHKXTTlTwkk"
      },
      "source": [
        "amount_bought = output_cols.astype('float64').sum(axis = 0)"
      ],
      "execution_count": 99,
      "outputs": []
    },
    {
      "cell_type": "code",
      "metadata": {
        "colab": {
          "base_uri": "https://localhost:8080/"
        },
        "id": "lTwZrB9MUPHQ",
        "outputId": "d822312d-3fb4-4fde-bcb9-28a6f832839a"
      },
      "source": [
        "amount_bought"
      ],
      "execution_count": 100,
      "outputs": [
        {
          "output_type": "execute_result",
          "data": {
            "text/plain": [
              "ind_ahor_fin_ult1       1318.0\n",
              "ind_aval_fin_ult1        300.0\n",
              "ind_cco_fin_ult1     8383973.0\n",
              "ind_cder_fin_ult1       5060.0\n",
              "ind_cno_fin_ult1     1030559.0\n",
              "ind_ctju_fin_ult1     121716.0\n",
              "ind_ctma_fin_ult1     124645.0\n",
              "ind_ctop_fin_ult1    1660027.0\n",
              "ind_ctpp_fin_ult1     557737.0\n",
              "ind_deco_fin_ult1      23958.0\n",
              "ind_deme_fin_ult1      21647.0\n",
              "ind_dela_fin_ult1     555164.0\n",
              "ind_ecue_fin_ult1    1053382.0\n",
              "ind_fond_fin_ult1     237597.0\n",
              "ind_hip_fin_ult1       75808.0\n",
              "ind_plan_fin_ult1     117800.0\n",
              "ind_pres_fin_ult1      33866.0\n",
              "ind_reca_fin_ult1     671445.0\n",
              "ind_tjcr_fin_ult1     570964.0\n",
              "ind_valo_fin_ult1     328049.0\n",
              "ind_viv_fin_ult1       49552.0\n",
              "ind_nomina_ult1       697652.0\n",
              "ind_nom_pens_ult1     757237.0\n",
              "ind_recibo_ult1      1632662.0\n",
              "dtype: float64"
            ]
          },
          "metadata": {
            "tags": []
          },
          "execution_count": 100
        }
      ]
    },
    {
      "cell_type": "code",
      "metadata": {
        "colab": {
          "base_uri": "https://localhost:8080/",
          "height": 136
        },
        "id": "Mf4O8rTGUSKi",
        "outputId": "e7437de9-503f-4c15-c774-fdd4364bb0eb"
      },
      "source": [
        "plt.figure(figsize = (8,4))\n",
        "amount_bought.values\n"
      ],
      "execution_count": 101,
      "outputs": [
        {
          "output_type": "execute_result",
          "data": {
            "text/plain": [
              "array([1.318000e+03, 3.000000e+02, 8.383973e+06, 5.060000e+03,\n",
              "       1.030559e+06, 1.217160e+05, 1.246450e+05, 1.660027e+06,\n",
              "       5.577370e+05, 2.395800e+04, 2.164700e+04, 5.551640e+05,\n",
              "       1.053382e+06, 2.375970e+05, 7.580800e+04, 1.178000e+05,\n",
              "       3.386600e+04, 6.714450e+05, 5.709640e+05, 3.280490e+05,\n",
              "       4.955200e+04, 6.976520e+05, 7.572370e+05, 1.632662e+06])"
            ]
          },
          "metadata": {
            "tags": []
          },
          "execution_count": 101
        },
        {
          "output_type": "display_data",
          "data": {
            "text/plain": [
              "<Figure size 576x288 with 0 Axes>"
            ]
          },
          "metadata": {
            "tags": []
          }
        }
      ]
    },
    {
      "cell_type": "code",
      "metadata": {
        "colab": {
          "base_uri": "https://localhost:8080/",
          "height": 480
        },
        "id": "jw8YaZcrUa9z",
        "outputId": "209169d3-2e3d-4b90-9760-f0dcdf8f7dea"
      },
      "source": [
        "sns.barplot(amount_bought.index,amount_bought.values)\n",
        "plt.xticks(rotation='vertical')"
      ],
      "execution_count": 102,
      "outputs": [
        {
          "output_type": "stream",
          "text": [
            "/usr/local/lib/python3.6/dist-packages/seaborn/_decorators.py:43: FutureWarning: Pass the following variables as keyword args: x, y. From version 0.12, the only valid positional argument will be `data`, and passing other arguments without an explicit keyword will result in an error or misinterpretation.\n",
            "  FutureWarning\n"
          ],
          "name": "stderr"
        },
        {
          "output_type": "execute_result",
          "data": {
            "text/plain": [
              "(array([ 0,  1,  2,  3,  4,  5,  6,  7,  8,  9, 10, 11, 12, 13, 14, 15, 16,\n",
              "        17, 18, 19, 20, 21, 22, 23]),\n",
              " <a list of 24 Text major ticklabel objects>)"
            ]
          },
          "metadata": {
            "tags": []
          },
          "execution_count": 102
        },
        {
          "output_type": "display_data",
          "data": {
            "image/png": "[encoded data removed]",
            "text/plain": [
              "<Figure size 432x288 with 1 Axes>"
            ]
          },
          "metadata": {
            "tags": [],
            "needs_background": "light"
          }
        }
      ]
    },
    {
      "cell_type": "code",
      "metadata": {
        "id": "8kUtQPD2VRJ3"
      },
      "source": [
        ""
      ],
      "execution_count": 102,
      "outputs": []
    },
    {
      "cell_type": "markdown",
      "metadata": {
        "id": "zGgL9iZLVfjb"
      },
      "source": [
        "Looking at this we can see that the  most bought item from the banks are the corrent accounts (ind_cco_fin_ult1) and the least bought is Guarentees (ind_aval_fin_ult1)"
      ]
    },
    {
      "cell_type": "markdown",
      "metadata": {
        "id": "dNFUQw8J1Ha7"
      },
      "source": [
        "# Date of Joining and Date of recording of data EDA"
      ]
    },
    {
      "cell_type": "code",
      "metadata": {
        "id": "B1Wunr33yxjU"
      },
      "source": [
        "train = pd.read_csv(filepath,usecols=['fecha_dato','fecha_alta'],parse_dates=['fecha_dato','fecha_alta'])"
      ],
      "execution_count": 103,
      "outputs": []
    },
    {
      "cell_type": "code",
      "metadata": {
        "id": "SEKDQ53BzXw9",
        "colab": {
          "base_uri": "https://localhost:8080/",
          "height": 370
        },
        "outputId": "4e6f5075-3f37-4f82-eded-40625722bba2"
      },
      "source": [
        "#Creating a new column for the year + month of observation each employee_index\n",
        "train['fecha_dato_yearmonth'] = train['fecha_dato'].apply(lambda x: (100*x.year) + x.month)\n",
        "yearmonth = train['fecha_dato_yearmonth'].value_counts()\n",
        "\n",
        "#A plot of the number of employee index per time_series datapoint\n",
        "plt.figure(figsize=(8,4))\n",
        "sns.barplot(yearmonth.index, yearmonth.values, alpha=0.8)\n",
        "plt.xlabel('Year and month of observation', fontsize=12)\n",
        "plt.ylabel('Number of customers', fontsize=12)\n",
        "plt.xticks(rotation='vertical')\n",
        "plt.show()"
      ],
      "execution_count": 104,
      "outputs": [
        {
          "output_type": "stream",
          "text": [
            "/usr/local/lib/python3.6/dist-packages/seaborn/_decorators.py:43: FutureWarning: Pass the following variables as keyword args: x, y. From version 0.12, the only valid positional argument will be `data`, and passing other arguments without an explicit keyword will result in an error or misinterpretation.\n",
            "  FutureWarning\n"
          ],
          "name": "stderr"
        },
        {
          "output_type": "display_data",
          "data": {
            "image/png": "[encoded data removed]",
            "text/plain": [
              "<Figure size 576x288 with 1 Axes>"
            ]
          },
          "metadata": {
            "tags": [],
            "needs_background": "light"
          }
        }
      ]
    },
    {
      "cell_type": "markdown",
      "metadata": {
        "id": "MOZPJ80MAXoJ"
      },
      "source": [
        "So we can see here that the distrubtion was quite similar during the first half of the year but after the 6th month there was a significant increase in the amount of customers, which then ever slightly increased till the next year as well. Maybe some scheme launched by us, or some specific reason other than seasonal caused this as the effects were permanent even through till the next year."
      ]
    },
    {
      "cell_type": "code",
      "metadata": {
        "id": "pdSaosBGAWr0"
      },
      "source": [
        "#Creating a new column for the year + month of joining each employee_index\n",
        "train['fecha_alta_yearmonth'] = train['fecha_alta'].apply(lambda x: (100*x.year) + x.month)\n",
        "yearmonth = train['fecha_alta_yearmonth'].value_counts()\n",
        "plt.figure(figsize=(15,4))\n",
        "\n",
        "#A plot of the number of employee index per data joining grouped over datapoints\n",
        "sns.barplot(yearmonth.index, yearmonth.values, alpha=0.8)\n",
        "plt.xlabel('Year and month of joining', fontsize=12)\n",
        "plt.ylabel('Number of customers', fontsize=12)\n",
        "plt.xticks(rotation='vertical')\n",
        "plt.show()\n"
      ],
      "execution_count": null,
      "outputs": []
    },
    {
      "cell_type": "code",
      "metadata": {
        "id": "kUeCCUtS8ZtL"
      },
      "source": [
        "#A closer look at the above plot at the end of the years\n",
        "year_month = yearmonth.sort_index().reset_index()\n",
        "year_month = year_month.iloc[185:]\n",
        "year_month.columns = ['yearmonth', 'number_of_customers']\n",
        "\n",
        "plt.figure(figsize=(12,4))\n",
        "sns.barplot(year_month.yearmonth.astype('int'), year_month.number_of_customers, alpha=0.8)\n",
        "plt.xlabel('Year and month of joining', fontsize=12)\n",
        "plt.ylabel('Number of customers', fontsize=12)\n",
        "plt.xticks(rotation='vertical')\n",
        "plt.show()"
      ],
      "execution_count": null,
      "outputs": []
    },
    {
      "cell_type": "markdown",
      "metadata": {
        "id": "VSlQVSBn6Po4"
      },
      "source": [
        "So it seems that the account contracts for the customers have been there from since 1995 and there seems to be an increase in the start date of account contracts in the later stages with a  more seasonal peak (from july to december)."
      ]
    },
    {
      "cell_type": "code",
      "metadata": {
        "id": "KF_jnYxp4Zgq"
      },
      "source": [
        "del train"
      ],
      "execution_count": null,
      "outputs": []
    },
    {
      "cell_type": "markdown",
      "metadata": {
        "id": "JIcQLhBS1D1B"
      },
      "source": [
        "# Age EDA"
      ]
    },
    {
      "cell_type": "code",
      "metadata": {
        "id": "ckteSzX96uuI"
      },
      "source": [
        "train = pd.read_csv(filepath, usecols=['age'])\n",
        "train.head()"
      ],
      "execution_count": null,
      "outputs": []
    },
    {
      "cell_type": "code",
      "metadata": {
        "id": "nscJH7K16wwA"
      },
      "source": [
        "train.age.unique()"
      ],
      "execution_count": null,
      "outputs": []
    },
    {
      "cell_type": "code",
      "metadata": {
        "id": "aJVO4PnoM03M"
      },
      "source": [
        "train[train.age == \" NA\"] = np.nan\r\n",
        "train['age'] = train['age'].astype('float64')"
      ],
      "execution_count": null,
      "outputs": []
    },
    {
      "cell_type": "code",
      "metadata": {
        "id": "CnSNRS1S7E5l"
      },
      "source": [
        "# A plot for the number of customer per age category (outliers detected in this)\n",
        "age_series = train.age.value_counts()\n",
        "age_series = age_series.sort_index()\n",
        "plt.figure(figsize=(20,4))\n",
        "sns.barplot(age_series.index, age_series.values, alpha=0.8)\n",
        "plt.ylabel('Number of Occurrences of the customer', fontsize=12)\n",
        "plt.xlabel('Age', fontsize=12)\n",
        "plt.xticks(rotation='vertical')\n",
        "plt.show()\n"
      ],
      "execution_count": null,
      "outputs": []
    },
    {
      "cell_type": "markdown",
      "metadata": {
        "id": "RwDsZ3A972QR"
      },
      "source": [
        "So most of our cutomers are between the age 20-24 and then there is some middle aged peole as well, so we can maybe remove the age gp below 20 and > 90 as it is only becoming a long tail. Also for the NaN values, we can use mean imputation technique (not a very good or preffered technique though) , to increase the dataset size."
      ]
    },
    {
      "cell_type": "markdown",
      "metadata": {
        "id": "au-ZV6zw9QPP"
      },
      "source": [
        "Mean imputation refers to replacing the null values with the mean value to make it more biased towards the higher values in the dataset"
      ]
    },
    {
      "cell_type": "code",
      "metadata": {
        "id": "ywH8rpb37R-L"
      },
      "source": [
        "train.age.isnull().sum()"
      ],
      "execution_count": null,
      "outputs": []
    },
    {
      "cell_type": "code",
      "metadata": {
        "id": "stHYMAEf85Q1"
      },
      "source": [
        "train.age.mean()"
      ],
      "execution_count": null,
      "outputs": []
    },
    {
      "cell_type": "code",
      "metadata": {
        "id": "QUBvJopw8768"
      },
      "source": [
        "del train"
      ],
      "execution_count": null,
      "outputs": []
    },
    {
      "cell_type": "markdown",
      "metadata": {
        "id": "K0f-U1dS0-dB"
      },
      "source": [
        "# Seniority EDA"
      ]
    },
    {
      "cell_type": "code",
      "metadata": {
        "id": "llrY7P_49ojq"
      },
      "source": [
        "#Customer seniority in months - understood as for how many months has he/she been there customers\n",
        "train = pd.read_csv(filepath, usecols=['antiguedad'])\n",
        "train.head()"
      ],
      "execution_count": null,
      "outputs": []
    },
    {
      "cell_type": "code",
      "metadata": {
        "id": "gLOUqTkA9p15"
      },
      "source": [
        "train.antiguedad.unique()"
      ],
      "execution_count": null,
      "outputs": []
    },
    {
      "cell_type": "code",
      "metadata": {
        "id": "CNU7MEbvF1TG"
      },
      "source": [
        "#Preprocessing for antiguedad\n",
        "train['antiguedad'] = train['antiguedad'].replace(to_replace=['     NA'], value=np.nan)\n",
        "train[train['antiguedad'] == -999999.0]['antiguedad'] == 0\n",
        "train['antiguedad'] = train['antiguedad'].astype('float64')\n"
      ],
      "execution_count": null,
      "outputs": []
    },
    {
      "cell_type": "code",
      "metadata": {
        "id": "31uEvhfuGGJS"
      },
      "source": [
        "#A plot of number of customers vs antiguedad(or seniority)\n",
        "col_series = train.antiguedad.value_counts()\n",
        "col_series = col_series.sort_index()\n",
        "plt.figure(figsize=(20,4))\n",
        "sns.barplot(col_series.index, col_series.values, alpha=0.8 )\n",
        "plt.ylabel('Number of Occurrences of the customer', fontsize=12)\n",
        "plt.xlabel('Customer Seniority', fontsize=12)\n",
        "plt.xticks(rotation='vertical')\n",
        "plt.show()"
      ],
      "execution_count": null,
      "outputs": []
    },
    {
      "cell_type": "markdown",
      "metadata": {
        "id": "axYau4k406mV"
      },
      "source": [
        "# Gross Income EDA"
      ]
    },
    {
      "cell_type": "code",
      "metadata": {
        "id": "g_pR23MvHI98"
      },
      "source": [
        "#renta = gross dometic income\n",
        "train = pd.read_csv(filepath, usecols=['renta'])\n",
        "train.head()"
      ],
      "execution_count": null,
      "outputs": []
    },
    {
      "cell_type": "code",
      "metadata": {
        "id": "YhWfaiCWHc8f"
      },
      "source": [
        "unique_values = np.sort(train.renta.unique())\n",
        "plt.scatter(range(len(unique_values)), unique_values)\n",
        "plt.show()"
      ],
      "execution_count": null,
      "outputs": []
    },
    {
      "cell_type": "markdown",
      "metadata": {
        "id": "59ZnyDzUICTT"
      },
      "source": [
        "This data doesnt seem right seems very skewed might be due to some very weatlhy outliers lets see"
      ]
    },
    {
      "cell_type": "code",
      "metadata": {
        "id": "s7aUE_JnHyMm"
      },
      "source": [
        "train.renta.mean()"
      ],
      "execution_count": null,
      "outputs": []
    },
    {
      "cell_type": "code",
      "metadata": {
        "id": "12DT_i-3I-oz"
      },
      "source": [
        "train.renta.median()"
      ],
      "execution_count": null,
      "outputs": []
    },
    {
      "cell_type": "code",
      "metadata": {
        "id": "CbJt2OPxJA9b"
      },
      "source": [
        "train.renta.isnull().sum()"
      ],
      "execution_count": null,
      "outputs": []
    },
    {
      "cell_type": "code",
      "metadata": {
        "id": "bPeRK-3cZ64l"
      },
      "source": [
        "#Seeing how the log transformation affects it\r\n",
        "fig, ax = plt.subplots(figsize=(30,15))\r\n",
        "sample_df = pd.DataFrame()\r\n",
        "sample_df['renta'] = train['renta']\r\n",
        "sample_df['renta'] = np.log(sample_df['renta'])\r\n",
        "train['renta'].hist(color='plum', edgecolor='black',  \r\n",
        "                          grid=False, bins= 100)\r\n",
        "ax.set_title('Gross Income bins', fontsize=12)\r\n",
        "ax.set_xlabel('Income', fontsize=12)\r\n",
        "ax.set_ylabel('Frequency', fontsize=12)\r\n",
        "fig, ax = plt.subplots(figsize=(30,15))\r\n",
        "sample_df['renta'].hist(color='plum', edgecolor='black',  \r\n",
        "                          grid=False, bins= 100)\r\n",
        "ax.set_title('Gross Income bins', fontsize=12)\r\n",
        "ax.set_xlabel('Income', fontsize=12)\r\n",
        "ax.set_ylabel('Frequency', fontsize=12)"
      ],
      "execution_count": null,
      "outputs": []
    },
    {
      "cell_type": "code",
      "metadata": {
        "id": "U68iA_huJM4m"
      },
      "source": [
        "#Plotting quartile range vs gross income to see presence of outliers\n",
        "train.fillna(101850., inplace=True) #filling NA as median for now\n",
        "quantile_series = train.renta.quantile(np.arange(0.99,1,0.001))\n",
        "plt.figure(figsize=(12,4))\n",
        "sns.barplot((quantile_series.index*100), quantile_series.values, alpha=0.8)\n",
        "plt.ylabel('Rent value', fontsize=12)\n",
        "plt.xlabel('Quantile value', fontsize=12)\n",
        "plt.xticks(rotation='vertical')\n",
        "plt.show()"
      ],
      "execution_count": null,
      "outputs": []
    },
    {
      "cell_type": "markdown",
      "metadata": {
        "id": "9jupP765LC-q"
      },
      "source": [
        "So you can see that there is a huge gap between the 99.9 percentile of rent amount and 100 percentile"
      ]
    },
    {
      "cell_type": "code",
      "metadata": {
        "id": "j5_KurJqL18v"
      },
      "source": [
        "del train"
      ],
      "execution_count": null,
      "outputs": []
    },
    {
      "cell_type": "markdown",
      "metadata": {
        "id": "UvNS6iZF01tw"
      },
      "source": [
        "# Product Analysis"
      ]
    },
    {
      "cell_type": "code",
      "metadata": {
        "id": "67Ui5A-ZguWR"
      },
      "source": [
        "#predefine some of the data type, for memory efficiency \r\n",
        "type_dict={'ncodpers':np.int32, 'ind_ahor_fin_ult1':np.uint8, 'ind_aval_fin_ult1':np.uint8, \r\n",
        "       'ind_cco_fin_ult1':np.uint8,'ind_cder_fin_ult1':np.uint8,\r\n",
        "            'ind_cno_fin_ult1':np.uint8,'ind_ctju_fin_ult1':np.uint8,'ind_ctma_fin_ult1':np.uint8,\r\n",
        "            'ind_ctop_fin_ult1':np.uint8,'ind_ctpp_fin_ult1':np.uint8,'ind_deco_fin_ult1':np.uint8,\r\n",
        "            'ind_deme_fin_ult1':np.uint8,'ind_dela_fin_ult1':np.uint8,'ind_ecue_fin_ult1':np.uint8,\r\n",
        "            'ind_fond_fin_ult1':np.uint8,'ind_hip_fin_ult1':np.uint8,'ind_plan_fin_ult1':np.uint8,\r\n",
        "            'ind_pres_fin_ult1':np.uint8,'ind_reca_fin_ult1':np.uint8,'ind_tjcr_fin_ult1':np.uint8,\r\n",
        "            'ind_valo_fin_ult1':np.uint8,'ind_viv_fin_ult1':np.uint8,\r\n",
        "            'ind_recibo_ult1':np.uint8 }\r\n",
        "\r\n",
        "limit_rows = 700000\r\n",
        "df = pd.read_csv(filepath, dtype=type_dict  , nrows = limit_rows ,parse_dates=['fecha_dato', 'fecha_alta'])\r\n",
        "\r\n",
        "df.head()"
      ],
      "execution_count": null,
      "outputs": []
    },
    {
      "cell_type": "code",
      "metadata": {
        "id": "XLZ8T_TSNKkk"
      },
      "source": [
        "train = pd.read_csv('/content/drive/My Drive/Colab Notebooks/train.csv', nrows=100000)\n",
        "target_cols = ['ind_cco_fin_ult1', 'ind_cder_fin_ult1',\n",
        "                             'ind_cno_fin_ult1', 'ind_ctju_fin_ult1',\n",
        "                             'ind_ctma_fin_ult1', 'ind_ctop_fin_ult1',\n",
        "                             'ind_ctpp_fin_ult1', 'ind_deco_fin_ult1',\n",
        "                             'ind_deme_fin_ult1', 'ind_dela_fin_ult1',\n",
        "                             'ind_ecue_fin_ult1', 'ind_fond_fin_ult1',\n",
        "                             'ind_hip_fin_ult1', 'ind_plan_fin_ult1',\n",
        "                             'ind_pres_fin_ult1', 'ind_reca_fin_ult1',\n",
        "                             'ind_tjcr_fin_ult1', 'ind_valo_fin_ult1',\n",
        "                             'ind_viv_fin_ult1', 'ind_nomina_ult1',\n",
        "                             'ind_nom_pens_ult1', 'ind_recibo_ult1']\n",
        "train[target_cols] = (train[target_cols].fillna(0))\n",
        "train[\"age\"] = train['age'].map(str.strip).replace(['NA'], value=0).astype('float')\n",
        "train[\"antiguedad\"] = train[\"antiguedad\"].map(str.strip)\n",
        "train[\"antiguedad\"] = train['antiguedad'].replace(['NA'], value=0).astype('float')\n",
        "\n",
        "train[train[\"antiguedad\"]>65] = 65 # there is one very high skewing the graph\n",
        "train[train[\"renta\"]>1e6] = 1e6 # capping the higher values for better visualisation\n",
        "train.fillna(-1, inplace=True)"
      ],
      "execution_count": null,
      "outputs": []
    },
    {
      "cell_type": "code",
      "metadata": {
        "id": "7lYdDAY05pMI"
      },
      "source": [
        "df['age']=pd.to_numeric(df.age, errors='coerce')\n",
        "\n",
        "df.rename(columns = {\"fecha_dato\":\"time_series\",\"ncodpers\":\"customer_code\",\"ind_empleado\":\"employee_index\",\\\n",
        "                       \"pais_residencia\":\"country_residence\",\"sexo\":\"gender\",\"fecha_alta\":\"Date_First_Customer\",\\\n",
        "                       \"ind_nuevo\":\"New_Customer_ind\",\"antiguedad\":\"Seniority\",\"indrel\":\"primary_cust\",\\\n",
        "                       \"ult_fec_cli_1t\":\"last_date_primary\",\"indrel_1mes\":\"customer_type\",\"tiprel_1mes\":\"cust_rel_type\",\\\n",
        "                       \"indresi\":\"residence_index\",\"indext\":\"foriegn_index\",\"conyuemp\":\"spouse_index\",\"canal_entrada\":\"channel_by_cust_joined\",\\\n",
        "                       \"indfall\":\"deceased_index\",\"tipodom\":\"primary_address\",\"cod_prov\":\"province_code\",\"nomprov\":\"province_name\",\\\n",
        "                       \"ind_actividad_cliente\":\"activity_index\",\"renta\":\"gross_income\",\"segmento\":\"segmentation\",\\\n",
        "                       \"ind_ahor_fin_ult1\":\"savings_account\",\"ind_aval_fin_ult1\":\"guarantees\",\"ind_cco_fin_ult1\":\"current_account\",\\\n",
        "                       \"ind_cder_fin_ult1\":\"derivative_account\",\"ind_cno_fin_ult1\":\"payroll_account\",\"ind_ctju_fin_ult1\":\"jnr_account\",\\\n",
        "                       \"ind_ctma_fin_ult1\":\"mas_particular_account\",\"ind_ctop_fin_ult1\":\"particular_account\",\\\n",
        "                       \"ind_deco_fin_ult1\":\"short_term_deposits\",\"ind_deme_fin_ult1\":\"medium_term_deposits\",\\\n",
        "                       \"ind_dela_fin_ult1\":\"long_term_deposits\",\"ind_ecue_fin_ult\":\"e_account1\",\"ind_fond_fin_ult1\":\"funds\",\\\n",
        "                       \"ind_hip_fin_ult1\":\"mortgage\",\"ind_plan_fin_ult1\":\"pensions1\",\"ind_pres_fin_ult1\":\"loans\",\\\n",
        "                       \"ind_reca_fin_ult1\":\"taxes\",\"ind_tjcr_fin_ult1\":\"credit_card\",\"ind_valo_fin_ult1\":\"securities\",\\\n",
        "                       \"ind_viv_fin_ult1\":\"home_account\",\"ind_nomina_ult1\":\"payroll\",\"ind_nom_pens_ult1\":\"pensions2\",\n",
        "                       \"ind_recibo_ult1\":\"direct_debit\",\"ind_ecue_fin_ult1\":\"e_account2\"},inplace=True)\n",
        "\n",
        "\n",
        "\n",
        "output_cols = [\"savings_account\",\"guarantees\",\"current_account\",\"derivative_account\",\\\n",
        "           \"payroll_account\",\"jnr_account\",\"mas_particular_account\",\"particular_account\",\\\n",
        "           \"short_term_deposits\",\"medium_term_deposits\",\"long_term_deposits\",\\\n",
        "           \"long_term_deposits\",\"e_account1\",\"funds\",\"mortgage\",\"pensions1\",\\\n",
        "           \"loans\",\"taxes\",\"credit_card\",\"securities\",\"home_account\",\"payroll\",\"pensions2\",\\\n",
        "           \"direct_debit\",\"e_account2\"]\n",
        "\n",
        "feature_cols = []\n",
        "for col in df.columns:\n",
        "  if(col not in output_cols):\n",
        "    feature_cols.append(col)"
      ],
      "execution_count": null,
      "outputs": []
    },
    {
      "cell_type": "code",
      "metadata": {
        "id": "DtMwnyFjNLVn"
      },
      "source": [
        "#A plot of the different age groups over different products\n",
        "fig, axes = plt.subplots(nrows=5, ncols=5, figsize=(15,20))\n",
        "plt.subplots_adjust(wspace=1.3, hspace=0.6)\n",
        "fig_row=0\n",
        "for col_id in range(24, 48):\n",
        "    ax_id=col_id-24\n",
        "    fig_label=df.columns[col_id]\n",
        "    feat=df.columns[col_id]\n",
        "    fig_col=(col_id+1)%5\n",
        "    print(df[feat].value_counts())\n",
        "    box_plot=sns.violinplot(y='age', data=df[(df[feat] == 1) & (df['age'] > 0) & (df['age'] < 100)], ax=axes[fig_row][fig_col],split=True, hue= 'gender')\n",
        "    box_plot.set(xlabel=fig_label)\n",
        "    if fig_col==4: \n",
        "      fig_row+=1"
      ],
      "execution_count": null,
      "outputs": []
    },
    {
      "cell_type": "code",
      "metadata": {
        "id": "IJnlUSJcML41"
      },
      "source": [
        "data = df[(df[feat] == 1) & (df['age'] > 0) & (df['age'] < 100)]"
      ],
      "execution_count": null,
      "outputs": []
    },
    {
      "cell_type": "code",
      "metadata": {
        "id": "M89r6daxOXHL"
      },
      "source": [
        "#A plot of how products are bought over different provinces vary\n",
        "fig, axes = plt.subplots(nrows=8, ncols=3, figsize=(9,18))\n",
        "plt.subplots_adjust(wspace=0.4, hspace=0.6)\n",
        "fig_row=0\n",
        "for col_id in range(24, 48):\n",
        "    ax_id=col_id-24\n",
        "    fig_label= df.columns[col_id]\n",
        "    feat=df.columns[col_id]\n",
        "    fig_col=col_id%3\n",
        "    sns.distplot(df.province_code[(df[feat]==1) & (df['province_code']>=0)], kde=False, \n",
        "                 axlabel=fig_label, ax=axes[fig_row][fig_col])\n",
        "    if fig_col==2: \n",
        "      fig_row+=1"
      ],
      "execution_count": null,
      "outputs": []
    },
    {
      "cell_type": "code",
      "metadata": {
        "id": "opUfNIVghOJK"
      },
      "source": [
        "train_cols = feature_cols + output_cols\r\n",
        "\r\n",
        "train = df.filter(train_cols)\r\n",
        "\r\n",
        "train.head()"
      ],
      "execution_count": null,
      "outputs": []
    },
    {
      "cell_type": "code",
      "metadata": {
        "id": "Y5EkfyDeF9Y2"
      },
      "source": [
        "dummy_train = train[train['gender'].notna()]\n",
        "from sklearn.preprocessing import LabelEncoder\n",
        "\n",
        "lb_make = LabelEncoder()\n",
        "dummy_train['gender'] = lb_make.fit_transform(dummy_train['gender'])\n",
        "dummy_train['gender']\n",
        "# H 2 \n",
        "# V 3\n",
        "dummy_train.customer_code.value_counts()"
      ],
      "execution_count": null,
      "outputs": []
    },
    {
      "cell_type": "code",
      "metadata": {
        "id": "RoNiNd5jbiMo"
      },
      "source": [
        "#A plot of how products bought by different genders vary\n",
        "\n",
        "fig, axes = plt.subplots(nrows=8, ncols=3, figsize=(9,18))\n",
        "plt.subplots_adjust(wspace=0.4, hspace=0.6)\n",
        "fig_row=0\n",
        "\n",
        "for col_id in range(24, 48):\n",
        "    ax_id=col_id-24\n",
        "    fig_label= df.columns[col_id]\n",
        "    feat=df.columns[col_id]\n",
        "    fig_col=col_id%3\n",
        "    sns.distplot(dummy_train.gender[(df[feat]==1)], kde=False, \n",
        "                 axlabel=fig_label, ax=axes[fig_row][fig_col])\n",
        "    if fig_col==2: \n",
        "      fig_row+=1"
      ],
      "execution_count": null,
      "outputs": []
    },
    {
      "cell_type": "markdown",
      "metadata": {
        "id": "ie3LykQf26kB"
      },
      "source": [
        "# Lag EDA Analysis"
      ]
    },
    {
      "cell_type": "markdown",
      "metadata": {
        "id": "WlbPI4ZF_ftF"
      },
      "source": [
        "### Please see the other Lag notebook for this "
      ]
    },
    {
      "cell_type": "markdown",
      "metadata": {
        "id": "8LZCAQBi28WY"
      },
      "source": [
        "# Doing Time Series analysis\n",
        "\n",
        "> Indented block\n",
        "\n"
      ]
    },
    {
      "cell_type": "code",
      "metadata": {
        "id": "eVU5KvsO3Fs2"
      },
      "source": [
        "from pandas import datetime\n",
        "#predefine some of the data type, for memory efficiency \n",
        "type_dict={'ncodpers':np.int32, 'ind_ahor_fin_ult1':np.uint8, 'ind_aval_fin_ult1':np.uint8, \n",
        "       'ind_cco_fin_ult1':np.uint8,'ind_cder_fin_ult1':np.uint8,\n",
        "            'ind_cno_fin_ult1':np.uint8,'ind_ctju_fin_ult1':np.uint8,'ind_ctma_fin_ult1':np.uint8,\n",
        "            'ind_ctop_fin_ult1':np.uint8,'ind_ctpp_fin_ult1':np.uint8,'ind_deco_fin_ult1':np.uint8,\n",
        "            'ind_deme_fin_ult1':np.uint8,'ind_dela_fin_ult1':np.uint8,'ind_ecue_fin_ult1':np.uint8,\n",
        "            'ind_fond_fin_ult1':np.uint8,'ind_hip_fin_ult1':np.uint8,'ind_plan_fin_ult1':np.uint8,\n",
        "            'ind_pres_fin_ult1':np.uint8,'ind_reca_fin_ult1':np.uint8,'ind_tjcr_fin_ult1':np.uint8,\n",
        "            'ind_valo_fin_ult1':np.uint8,'ind_viv_fin_ult1':np.uint8,\n",
        "            'ind_recibo_ult1':np.uint8 }\n",
        "\n",
        "# def parser(x):\n",
        "# \treturn datetime.strptime(x, '%Y-%m-%d')\n",
        " \n",
        "df = pd.read_csv(filepath, dtype=type_dict ,parse_dates=['fecha_dato', 'fecha_alta'],squeeze=True)\n",
        "\n"
      ],
      "execution_count": null,
      "outputs": []
    },
    {
      "cell_type": "code",
      "metadata": {
        "id": "1lSo3I1AnrC7"
      },
      "source": [
        "rename_columns(df)\n",
        "\n",
        "output_cols = [\"savings_account\",\"guarantees\",\"current_account\",\"derivative_account\",\\\n",
        "           \"payroll_account\",\"jnr_account\",\"mas_particular_account\",\"particular_account\",\\\n",
        "           \"particular_Plus_Account\",\"short_term_deposits\",\"medium_term_deposits\",\"long_term_deposits\",\\\n",
        "           \"e_account\",\"funds\",\"mortgage\",\"pensions\",\\\n",
        "            \"loans\",\"taxes\",\"credit_card\",\"securities\",\\\n",
        "            \"home_account\",\"payroll\",\"pensions1\",\"direct_debit\"]\n",
        "\n",
        "\n",
        "# df.sort_values('Order Date')\n"
      ],
      "execution_count": null,
      "outputs": []
    },
    {
      "cell_type": "code",
      "metadata": {
        "id": "GMpCWh1vvMNy"
      },
      "source": [
        "df[output_cols]"
      ],
      "execution_count": null,
      "outputs": []
    },
    {
      "cell_type": "code",
      "metadata": {
        "id": "PTXUVzTNoY96"
      },
      "source": [
        "df = df.groupby('time_series')[output_cols].sum()"
      ],
      "execution_count": null,
      "outputs": []
    },
    {
      "cell_type": "code",
      "metadata": {
        "id": "Vd7wcOvSorRv"
      },
      "source": [
        "'''\n",
        "Plots of different output cols change with time\n",
        "'''\n",
        "\n",
        "sns.set()\n",
        "fig, axes = plt.subplots(nrows=9, ncols=3, figsize=(33,66))\n",
        "plt.subplots_adjust(wspace=0.4, hspace=0.6)\n",
        "fig_row=0\n",
        "\n",
        "for col in range(len(output_cols)):\n",
        "  # print(output_cols)\n",
        "  fig_col = col%3\n",
        "  axes[fig_row][fig_col].plot(df.index,df[output_cols[col]].to_numpy())\n",
        "  axes[fig_row][fig_col].set_xlabel(output_cols[col])\n",
        "  axes[fig_row][fig_col].set_ylabel('Total Change in products')\n",
        "  if fig_col==2: \n",
        "      fig_row+=1"
      ],
      "execution_count": null,
      "outputs": []
    },
    {
      "cell_type": "code",
      "metadata": {
        "id": "x3z3Fp66SgvU"
      },
      "source": [
        "from pandas import read_csv\n",
        "from pandas import datetime\n",
        "from pandas import DataFrame\n",
        "from statsmodels.tsa.arima_model import ARIMA\n",
        "from matplotlib import pyplot\n",
        " \n",
        "def parser(x):\n",
        "\treturn datetime.strptime('190'+x, '%Y-%m')\n",
        " \n",
        "# series = read_csv('shampoo-sales.csv', header=0, parse_dates=[0], index_col=0, squeeze=True, date_parser=parser)\n",
        "# fit model\n",
        "model = ARIMA(df['home_account'], order=(3,2,0))\n",
        "model_fit = model.fit(disp=0)\n",
        "print(model_fit.summary())\n",
        "# plot residual errors\n",
        "residuals = DataFrame(model_fit.resid)\n",
        "residuals.plot()\n",
        "pyplot.show()\n",
        "residuals.plot(kind='kde')\n",
        "pyplot.show()"
      ],
      "execution_count": null,
      "outputs": []
    },
    {
      "cell_type": "markdown",
      "metadata": {
        "id": "hphtRWRmBp2o"
      },
      "source": [
        "Almost a gaussian error not bad . . ."
      ]
    },
    {
      "cell_type": "code",
      "metadata": {
        "id": "PqdlDJPw88lu"
      },
      "source": [
        "from pandas import datetime\n",
        "from matplotlib import pyplot\n",
        "from statsmodels.tsa.arima_model import ARIMA\n",
        "from sklearn.metrics import mean_squared_error\n",
        " \n",
        "def parser(x):\n",
        "\treturn datetime.strptime('190'+x, '%Y-%m')\n",
        " \n",
        "# series = read_csv('shampoo-sales.csv', header=0, parse_dates=[0], index_col=0, squeeze=True, date_parser=parser)\n",
        "\n",
        "col = 'home_account'\n",
        "X = df[col].values\n",
        "# X\n",
        "\n",
        "size = int(len(X) * 0.66)\n",
        "train, test = X[0:size], X[size:len(X)]\n",
        "# test\n",
        "history = [x for x in train]\n",
        "predictions = list()\n",
        "# history\n",
        "\n",
        "for t in range(len(test)):\n",
        "\tmodel = ARIMA(history, order=(0,1,0))\n",
        "\tmodel_fit = model.fit(disp=0)\n",
        "\toutput = model_fit.forecast()\n",
        "\tyhat = output[0]\n",
        "\tpredictions.append(yhat)\n",
        "\tobs = test[t]\n",
        "\thistory.append(obs)\n",
        "\tprint('predicted=%f, expected=%f' % (yhat, obs))\n",
        "error = mean_squared_error(test, predictions)\n",
        "print('Test MSE: %.3f' % error)\n",
        "# plot\n",
        "pyplot.plot(test)\n",
        "pyplot.plot(predictions, color='red')\n",
        "pyplot.show()"
      ],
      "execution_count": null,
      "outputs": []
    },
    {
      "cell_type": "code",
      "metadata": {
        "id": "ULIkODUNX00M"
      },
      "source": [
        "from statsmodels.tsa.seasonal import seasonal_decompose\n",
        "\n",
        "sns.set()\n",
        "fig_row=0\n",
        "# Add the column here to indivdually check the seasonal decomposition of the specified column\n",
        "col = 'payroll'\n",
        "\n",
        "X = df[col].values\n",
        "size = int(len(X) * 0.80)\n",
        "train, test = X[0:size], X[size:len(X)]\n",
        "# test\n",
        "history = [x for x in train]\n",
        "\n",
        "decomposition = seasonal_decompose(history, model='multiplicative',freq = 1)\n",
        "trend    = decomposition.trend\n",
        "seasonal = decomposition.seasonal\n",
        "residual = decomposition.resid\n",
        "print('\\t \\t\\t' + col.upper())\n",
        "decomposition.plot()\n",
        "pyplot.show()\n",
        "\n"
      ],
      "execution_count": null,
      "outputs": []
    },
    {
      "cell_type": "markdown",
      "metadata": {
        "id": "LKBElmlFX-jq"
      },
      "source": [
        "You will see that all of the products didn't show any new things in Seasonal or residual part averything which is observed comes out to be a trend which is not very helpful for us"
      ]
    },
    {
      "cell_type": "code",
      "metadata": {
        "id": "dqqZrOpdabPY"
      },
      "source": [
        "#A plot of different columns via FFT we didn't complete this but we were trying different frequencies for a fft over our time series data\r\n",
        "\r\n",
        "# Frequency and sampling rate\r\n",
        "f = 10 # frequency\r\n",
        "Fs = 100 # sampling rate\r\n",
        "\r\n",
        "# Sine function\r\n",
        "for col in output_cols:\r\n",
        "  X = df[col].values\r\n",
        "  size = int(len(X) * 0.80)\r\n",
        "  train, test = X[0:size], X[size:len(X)]\r\n",
        "  # test\r\n",
        "  t = np.linspace(1,len(train),len(train))\r\n",
        "  T = 1\r\n",
        "  print(t)\r\n",
        "  history = [x for x in train]\r\n",
        "  # Perform Fourier transform using scipy\r\n",
        "  from scipy import fftpack\r\n",
        "  y_fft = fftpack.fft(history)\r\n",
        "  # # Plot data\r\n",
        "  # n = np.size(t)\r\n",
        "  N = train.size\r\n",
        "  fr = np.linspace(0,0.5 * (1/T),N)\r\n",
        "  fr = fr * 1000\r\n",
        "  \r\n",
        "  below_cutoff = np.abs(y_fft) < 5.5\r\n",
        "  y_fft[below_cutoff] = 0\r\n",
        "  cleaner_signal = fftpack.ifft(y_fft)\r\n",
        "  plt.plot(t,cleaner_signal)\r\n",
        "  plt.plot(t,history)\r\n",
        "  plt.show()\r\n",
        "  "
      ],
      "execution_count": null,
      "outputs": []
    },
    {
      "cell_type": "code",
      "metadata": {
        "id": "AyO7kOX8943i"
      },
      "source": [
        "cleaner_signal"
      ],
      "execution_count": null,
      "outputs": []
    }
  ]
}